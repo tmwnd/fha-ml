{
 "cells": [
  {
   "cell_type": "code",
   "execution_count": null,
   "metadata": {},
   "outputs": [],
   "source": [
    "import numpy as np\n",
    "from matplotlib import pyplot as plt"
   ]
  },
  {
   "cell_type": "code",
   "execution_count": 9,
   "metadata": {},
   "outputs": [],
   "source": [
    "# lineare klassifikation\n",
    "def e_in(X, y, w):\n",
    "    return np.sum(H(X, w) != y) / X.shape[0]\n",
    "\n",
    "# perzeptron\n",
    "def h(x, w):\n",
    "    return np.sign(x @ w)\n",
    "\n",
    "def H(X, w):\n",
    "    return [h(x, w) for x in X]\n",
    "\n",
    "# p(x)\n",
    "def p(x, w):\n",
    "    return -w[1]/w[2]*x - w[0]/w[2]\n",
    "\n",
    "def P(X, w):\n",
    "    return [p(x, w) for x in X]\n",
    "\n",
    "# pla\n",
    "def pla(X, y, w=None, t=0):\n",
    "    if t == 0:\n",
    "        X = np.column_stack((np.ones(X.shape[0]), X))\n",
    "    if w is None:\n",
    "        w = np.zeros(X.shape[1])\n",
    "\n",
    "    for i, x in enumerate(X):\n",
    "        if h(x, w) != y[i]:\n",
    "            return pla(X, y, w + y[i]*x, t+1)\n",
    "\n",
    "    return w\n",
    "\n",
    "# pocket\n",
    "def pocket(X, y, T):\n",
    "    X = np.column_stack((np.ones(X.shape[0]), X))\n",
    "\n",
    "    w = np.zeros(X.shape[1])\n",
    "    w_d = w.copy()\n",
    "    e = 1\n",
    "\n",
    "    for _ in range(T):\n",
    "        for i, x in enumerate(X):\n",
    "            if h(x, w) != y[i]:\n",
    "                w += y[i]*x\n",
    "\n",
    "                if e_in(X, y, w) < e:\n",
    "                    w_d = w.copy()\n",
    "                    e = e_in(X, y, w_d)\n",
    "\n",
    "    return w_d\n",
    "\n",
    "# scatter\n",
    "def scatter(X, y, w):\n",
    "    xlim = (X[:,0].min()-0.1, X[:,0].max()+0.1)\n",
    "    ylim = (X[:,1].min()-0.1, X[:,1].max()+0.1)\n",
    "\n",
    "    plt.scatter(X[:,0], X[:,1], c=y)\n",
    "    plt.plot(xlim, P(xlim, w))\n",
    "    plt.xlim(xlim)\n",
    "    plt.ylim(ylim)\n",
    "    plt.show()"
   ]
  },
  {
   "cell_type": "code",
   "execution_count": null,
   "metadata": {},
   "outputs": [],
   "source": [
    "# lineare regression\n",
    "def lin_reg(X, y):\n",
    "    X = np.column_stack((np.ones(X.shape[0]), X))\n",
    "\n",
    "    X_d = np.linalg.inv(X.T @ X) @ X.T\n",
    "    return X_d @ y\n",
    "\n",
    "def h(x, w):\n",
    "    return np.sum(np.hstack((np.ones(1), x)) + w)\n",
    "\n",
    "def H(X, w):\n",
    "    return tuple([h(x, w) for x in X])\n",
    "\n",
    "# scatter\n",
    "def scatter(X, y, w):\n",
    "    xlim = (X.min()-0.1, X.max()+0.1)\n",
    "    ylim = (y.min()-0.1, y.max()+0.1)\n",
    "\n",
    "    plt.scatter(X, y)\n",
    "    plt.plot(xlim, H(xlim, w))\n",
    "    plt.xlim(xlim)\n",
    "    plt.ylim(ylim)\n",
    "    plt.show()"
   ]
  }
 ],
 "metadata": {
  "kernelspec": {
   "display_name": "Python 3",
   "language": "python",
   "name": "python3"
  },
  "language_info": {
   "codemirror_mode": {
    "name": "ipython",
    "version": 3
   },
   "file_extension": ".py",
   "mimetype": "text/x-python",
   "name": "python",
   "nbconvert_exporter": "python",
   "pygments_lexer": "ipython3",
   "version": "3.9.2 (default, Feb 28 2021, 17:03:44) \n[GCC 10.2.1 20210110]"
  },
  "orig_nbformat": 4,
  "vscode": {
   "interpreter": {
    "hash": "31f2aee4e71d21fbe5cf8b01ff0e069b9275f58929596ceb00d14d90e3e16cd6"
   }
  }
 },
 "nbformat": 4,
 "nbformat_minor": 2
}
