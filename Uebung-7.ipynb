{
 "cells": [
  {
   "cell_type": "markdown",
   "metadata": {},
   "source": [
    "# Übung 7\n",
    "\n",
    "**Gruppenname:**\n",
    "\n",
    "*Name Ihrer Gruppe*\n",
    "\n",
    "Gehen Sie wie folgt vor:\n",
    "\n",
    "1. Bitte benennen Sie jetzt dieses Jupyter Notebook um (z.B. über `File -> Rename`):\n",
    "\n",
    "   Namensschema: `Gruppenname-X`. Ersetzen Sie \"X\" mit der oben angegebenen Nummer der Übung.\n",
    "\n",
    "   - Beispiel 1: Team REZA bearbeitet Übung 2. Das Notebook heißt: REZA-2.\n",
    "   - Beispiel 2: Sie sind keinem Team zugeordnet (nicht empfehlenswert) und bearbeiten Übung 2: Ihr Notebook heißt: Nachname-2.\n",
    "\n",
    "\n",
    "2. Tragen Sie Ihren Gruppennamen auch ganz oben bei \"Name Ihrer Gruppe\" ein.\n",
    "\n",
    "3. Bearbeiten Sie dann dieses Notebook. Vergessen Sie dabei nicht, das Jupyter Notebook regelmäßig zu speichern (z.B. über `Strg + S` oder über `File -> Save and Checkpoint`)."
   ]
  },
  {
   "cell_type": "markdown",
   "metadata": {},
   "source": [
    "### 7.1 Zulassungskommission (Logistische Regression, Gradientenabstieg)\n",
    "Eine Kommission an einer Hochschule hat in den vergangenen Jahren Bachelorabsolventen, die sich für einen Masterstudiengang bewarben, nach eingehender Prüfung zugelassen oder abgelehnt. Die Hochschulverwaltung überlegt, die durch die Kommissionsarbeit gebundenen Arbeitsressourcen freizusetzen und die Kommission von ihrer Arbeit zu entbinden. Die Wahrscheinlichkeit, mit der die Kommission die Zulassung zum Masterstudium für eine Bewerberin / einen Bewerber empfohlen hätte, soll mithilfe von Machine Learning und historischer Daten (nämlich dem Punkteergebnis von zwei Klausuren jedes Bewerbers sowie die damalige Entscheidung der Kommission) vorhergesagt werden.\n",
    "\n",
    "**Daten:**\n",
    "\n",
    "Die Daten enthalten die Punktzahlen zweier Abschlussklausuren (Feature 1 und Feature 2), die ein Bewerber / eine Bewerberin in ihrem Bachelorstudium erzielte, sowie die Entscheidung (Label) der Kommission, ob der Bewerber zum Masterstudium zugelassen wurde (+1) oder abgelehnt wurde (0). Und bevor Sie fragen: Dies ist ein ausgedachter Fall und kein Fall der FH Aachen.\n",
    "\n",
    "**Ihre Aufgaben**\n",
    "\n",
    "(1) Importieren Sie die Daten. Ich habe Ihnen in der ersten Spalte der Datenmatrix $X$ bereits Einsen eingetragen, damit Sie dies nicht mehr selbst implementieren müssen. Die Features (Feature 1 und 2) befinden sich in der zweiten und dritten Spalte der Matrix $X$. Das Label ($y$) habe ich Ihnen in der unteren Code-Zelle bereits so konvertiert, dass sie die Werte $-1$ bzw. $+1$ annimmt. Tragen Sie in einem Scatterplot Feature 1 gegen Feature 2 auf. Markieren Sie über Farbe oder Symbole, ob die Studienanwärter zum Masterstudium zugelassen wurden ($y=1$) oder nicht ($y=-1$)."
   ]
  },
  {
   "cell_type": "code",
   "execution_count": 172,
   "metadata": {
    "collapsed": false,
    "pycharm": {
     "name": "#%%\n"
    }
   },
   "outputs": [],
   "source": [
    "%matplotlib inline\n",
    "import numpy as np\n",
    "from matplotlib import pyplot as plt\n",
    "\n",
    "# Sie finden diese Daten auch zum Download unter: https://data.bialonski.de/ml/admission-data.txt\n",
    "data = np.loadtxt('https://data.bialonski.de/ml/admission-data.txt', delimiter=',')\n",
    "\n",
    "# Ihre Daten:\n",
    "X_7_1, y_7_1 = np.insert(data[:, :2] / 100, 0, 1, 1), (data[:, 2] - .5) * 2"
   ]
  },
  {
   "cell_type": "markdown",
   "metadata": {},
   "source": [
    "(2) Implementieren Sie eine Funktion `gradient`, die einen Gewichtsvektor, Features und Labels entgegennimmt und den Gradientenvektor der logistischen Regression zurückgibt. Schlagen Sie in den entsprechenden Folien der Vorlesung nach. Erinnern Sie sich daran, dass jeder Feature-Vektor drei Komponenten ($x_0$, $x_1$, $x_2$) hat, wobei $x_0=1$ und $x_1$ sowie $x_2$ der Wert des ersten bzw. zweiten Features ist."
   ]
  },
  {
   "cell_type": "code",
   "execution_count": 173,
   "metadata": {},
   "outputs": [],
   "source": [
    "def phi(x):\n",
    "    return 1 / (1 + np.exp(-x))\n",
    "\n",
    "def gradient(X, y, w):\n",
    "    return np.sum([(-y[i]*x) * phi(-y[i] * w @ x) for i, x in enumerate(X)], axis=0) / X.shape[0]"
   ]
  },
  {
   "cell_type": "markdown",
   "metadata": {},
   "source": [
    "(3) Implementieren Sie eine Funktion `E_in`, die einen Gewichtsvektor $\\mathbf{w}$, die Featurevektoren $\\mathbf{x}$ sowie die Labels $\\mathbf{y}$ entgegennimmt und Ihnen den Fehler $E_\\text{in}(\\mathbf{w})$ der logistischen Regression zurückgibt."
   ]
  },
  {
   "cell_type": "code",
   "execution_count": 174,
   "metadata": {},
   "outputs": [],
   "source": [
    "def e_in(X, y, w):\n",
    "    return np.sum([np.log(1 + np.exp(-y[i] * w @ x)) for i, x in enumerate(X)]) / X.shape[0]"
   ]
  },
  {
   "cell_type": "markdown",
   "metadata": {},
   "source": [
    "(4) Implementieren Sie den \"Gradientenabstieg mit fixierter Lernrate\" (Funktion `grad_descent`), wie Sie ihn in der Vorlesung kennengelernt haben. Vergegenwärtigen Sie sich, dass beim Gradientenabstieg die Gewichtsvektoren verändert werden, nicht aber die Daten ($\\mathbf{x}$ und $\\mathbf{y}$ bleiben unverändert). Bauen Sie zusätzlich ein, dass bei jedem Iterationsschritt $t$ der Fehler $E_\\text{in}(\\mathbf{w}(t))$ berechnet wird und am Ende - neben dem finalen Gewichtsvektor - auch sämtliche über die Iterationen hinweg erzielten Fehler als Vektor herausgegeben wird."
   ]
  },
  {
   "cell_type": "code",
   "execution_count": 196,
   "metadata": {},
   "outputs": [],
   "source": [
    "def grad_descent(X, y, w=None, n=0.1, T=400, eps_e=10**-8, eps_g=10**-8):\n",
    "    if w is None:\n",
    "        w = np.random.normal(0, 1, X.shape[1])\n",
    "\n",
    "    es = []\n",
    "    for _ in range(T):\n",
    "        g = gradient(X, y, w)\n",
    "        v = -g / np.linalg.norm(g)\n",
    "\n",
    "        w = w + n*v\n",
    "\n",
    "        e = e_in(X, y, w)\n",
    "        es.append(e)\n",
    "\n",
    "        if e < eps_e: break\n",
    "        if np.linalg.norm(g) < eps_g: break\n",
    "    \n",
    "    return w, es"
   ]
  },
  {
   "cell_type": "markdown",
   "metadata": {},
   "source": [
    "(5) Entscheiden Sie sich dafür, wie sie den Anfangsgewichtsvektor $\\mathbf{w}(0)$ initialisieren wollen. Sie können beispielsweise die Komponenten von $\\mathbf{w}(0)$ aus einer Standardnormalverteilung mit kleiner Varianz ziehen. Oder Sie können einmal ausprobieren, $\\mathbf{w}(0) = \\mathbf{0}$ zu setzen."
   ]
  },
  {
   "cell_type": "markdown",
   "metadata": {},
   "source": [
    "(6) Entscheiden Sie sich für Terminationskriterien und eine Lernrate $\\eta$ für den Gradientenabstieg. Ausgangspunkt könnte beispielsweise eine Lernrate von $\\eta = 0.1$ und einer Termination bei 400 Iterationen sein. Sie können hier aber gerne experimentieren und herausfinden, ob Sie bessere Werte und Kriterien für das vorliegende Lernproblem finden."
   ]
  },
  {
   "cell_type": "markdown",
   "metadata": {},
   "source": [
    "(7) Führen Sie einen Gradientenabstieg durch und visualisieren Sie den Fehler $E_\\text{in}(t)$ über die Iterationsschritte $t$ hinweg. "
   ]
  },
  {
   "cell_type": "code",
   "execution_count": 197,
   "metadata": {},
   "outputs": [
    {
     "name": "stdout",
     "output_type": "stream",
     "text": [
      "0.21361007272245558\n"
     ]
    },
    {
     "data": {
      "image/png": "[encoded data removed]",
      "text/plain": [
       "<Figure size 640x480 with 1 Axes>"
      ]
     },
     "metadata": {},
     "output_type": "display_data"
    }
   ],
   "source": [
    "w, es = grad_descent(X_7_1, y_7_1)\n",
    "\n",
    "print(np.min(es))\n",
    "\n",
    "plt.scatter(range(len(es)), es)\n",
    "plt.xlabel(\"$T$\")\n",
    "plt.ylabel(\"$E_{in}$\")\n",
    "plt.show()"
   ]
  },
  {
   "cell_type": "markdown",
   "metadata": {},
   "source": [
    "(8) Nutzen Sie das finale Modell $g$ (spezifiziert durch den finalen Gewichtsvektor), um die Zulassungswahrscheinlichkeit $\\left( g(\\mathbf{x}) = \\mathbb{P}[y=+1|\\mathbf{x}] \\right)$ für das Masterstudium eines Anwärters vorherzusagen, der folgende Ergebnisse in seinen zwei Abschlussklausuren erzielte: (Feature 1, Feature 2) = (0.45, 0.85). Schlagen Sie dazu in den Folien der Vorlesung nach, wie diese Wahrscheinlichkeit aus dem Gewichtsvektor und dem Featurevektor zu berechnen ist."
   ]
  },
  {
   "cell_type": "code",
   "execution_count": 177,
   "metadata": {},
   "outputs": [
    {
     "data": {
      "text/plain": [
       "0.691749615300848"
      ]
     },
     "execution_count": 177,
     "metadata": {},
     "output_type": "execute_result"
    }
   ],
   "source": [
    "def h(x):\n",
    "    return phi(w @ x)\n",
    "\n",
    "h(np.array([1, 0.45, 0.85]))"
   ]
  },
  {
   "attachments": {},
   "cell_type": "markdown",
   "metadata": {
    "pycharm": {
     "name": "#%% md\n"
    }
   },
   "source": [
    "(9) Visualisieren Sie die Zulassungswahrscheinlichkeit für die Featureebene, die durch Feature 1 und 2 aufgespannt wird: Legen Sie dazu ein Grid durch den Feature-Raum, wobei Sie jedes der beiden Feature von $0$ bis $1$ in $0.01$ er Schritten scannen, für jedes Wertepaar die Zulassungswahrscheinlichkeit berechnen, und im Anschluss daran visualisieren. `plt.imshow` kann Ihnen dabei helfen."
   ]
  },
  {
   "cell_type": "code",
   "execution_count": 178,
   "metadata": {},
   "outputs": [
    {
     "data": {
      "image/png": "[encoded data removed]",
      "text/plain": [
       "<Figure size 640x480 with 2 Axes>"
      ]
     },
     "metadata": {},
     "output_type": "display_data"
    }
   ],
   "source": [
    "L = np.linspace(0, 1, 101)\n",
    "plt.imshow([[h(np.array([1, x1, x2])) for x2 in L] for x1 in L])\n",
    "plt.colorbar()\n",
    "plt.xlabel(\"$x_2$\")\n",
    "plt.xticks(plt.xticks()[0][1:-1], plt.xticks()[0][1:-1] / 10)\n",
    "plt.ylabel(\"$x_1$\")\n",
    "plt.yticks(plt.yticks()[0][1:-1], plt.yticks()[0][1:-1] / 10)\n",
    "plt.show()"
   ]
  }
 ],
 "metadata": {
  "hide_input": false,
  "kernelspec": {
   "display_name": "Python 3",
   "language": "python",
   "name": "python3"
  },
  "language_info": {
   "codemirror_mode": {
    "name": "ipython",
    "version": 3
   },
   "file_extension": ".py",
   "mimetype": "text/x-python",
   "name": "python",
   "nbconvert_exporter": "python",
   "pygments_lexer": "ipython3",
   "version": "3.9.2"
  },
  "vscode": {
   "interpreter": {
    "hash": "31f2aee4e71d21fbe5cf8b01ff0e069b9275f58929596ceb00d14d90e3e16cd6"
   }
  }
 },
 "nbformat": 4,
 "nbformat_minor": 4
}
